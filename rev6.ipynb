{
  "nbformat": 4,
  "nbformat_minor": 0,
  "metadata": {
    "colab": {
      "provenance": [],
      "authorship_tag": "ABX9TyMuxDSAFUmhNuXEwYuUoylC",
      "include_colab_link": true
    },
    "kernelspec": {
      "name": "python3",
      "display_name": "Python 3"
    },
    "language_info": {
      "name": "python"
    }
  },
  "cells": [
    {
      "cell_type": "markdown",
      "metadata": {
        "id": "view-in-github",
        "colab_type": "text"
      },
      "source": [
        "<a href=\"https://colab.research.google.com/github/lizaasara/business-analytics-with-python/blob/main/rev6.ipynb\" target=\"_parent\"><img src=\"https://colab.research.google.com/assets/colab-badge.svg\" alt=\"Open In Colab\"/></a>"
      ]
    },
    {
      "cell_type": "code",
      "execution_count": 5,
      "metadata": {
        "id": "NnqMFeV6YY6h"
      },
      "outputs": [],
      "source": [
        "def x():\n",
        "  a=[1,2,3,4,5,6,7,8,9,10]\n",
        "  b=sum(a)\n",
        "  print(b)\n",
        "  "
      ]
    },
    {
      "cell_type": "code",
      "source": [
        "x()"
      ],
      "metadata": {
        "colab": {
          "base_uri": "https://localhost:8080/"
        },
        "id": "39R0VwMKawIt",
        "outputId": "b0644329-6b10-4a32-d77b-05c5b1907f8b"
      },
      "execution_count": 6,
      "outputs": [
        {
          "output_type": "stream",
          "name": "stdout",
          "text": [
            "55\n"
          ]
        }
      ]
    },
    {
      "cell_type": "code",
      "source": [
        "def y():\n",
        "  a=[1,2,3,4,5]\n",
        "  for num in a:\n",
        "    if num % 2==0:\n",
        "      print(\"even numbers are\",num)\n",
        "def z():\n",
        "  for num in a:\n",
        "    if num % 2!=0:\n",
        "      print(\"odd numbers are\",num)\n",
        "\n",
        "  "
      ],
      "metadata": {
        "id": "wT1UWR0mbEY7"
      },
      "execution_count": 12,
      "outputs": []
    },
    {
      "cell_type": "code",
      "source": [
        "y()"
      ],
      "metadata": {
        "colab": {
          "base_uri": "https://localhost:8080/"
        },
        "id": "C0y_JQN7eWOl",
        "outputId": "cb8526fa-534e-45fb-b966-a1301807a17c"
      },
      "execution_count": 14,
      "outputs": [
        {
          "output_type": "stream",
          "name": "stdout",
          "text": [
            "even numbers are 2\n",
            "even numbers are 4\n"
          ]
        }
      ]
    },
    {
      "cell_type": "code",
      "source": [
        "z()"
      ],
      "metadata": {
        "colab": {
          "base_uri": "https://localhost:8080/"
        },
        "id": "ICOmJLAQgUAz",
        "outputId": "b047adc6-edb1-40b5-a5b2-0e7ddbb83860"
      },
      "execution_count": 15,
      "outputs": [
        {
          "output_type": "stream",
          "name": "stdout",
          "text": [
            "odd numbers are 1\n",
            "odd numbers are 3\n",
            "odd numbers are 5\n",
            "odd numbers are 7\n",
            "odd numbers are 9\n"
          ]
        }
      ]
    },
    {
      "cell_type": "code",
      "source": [
        "a=(\"Python is a high-level, general-purpose programming language\")\n",
        "\n",
        "vowels=['a','e','i','o','u']\n",
        "b=''\n",
        "for i in range(len(a)):\n",
        "  if a[i] not in vowels:\n",
        "    b=b+a[i]\n",
        "print(b)"
      ],
      "metadata": {
        "colab": {
          "base_uri": "https://localhost:8080/"
        },
        "id": "ft840W7xgYWK",
        "outputId": "3d8dd6e4-ec14-4cde-aad2-f383c07a6fc6"
      },
      "execution_count": 19,
      "outputs": [
        {
          "output_type": "stream",
          "name": "stdout",
          "text": [
            "Pythn s  hgh-lvl, gnrl-prps prgrmmng lngg\n"
          ]
        }
      ]
    },
    {
      "cell_type": "code",
      "source": [],
      "metadata": {
        "id": "yeQD_ejwseIy"
      },
      "execution_count": null,
      "outputs": []
    }
  ]
}