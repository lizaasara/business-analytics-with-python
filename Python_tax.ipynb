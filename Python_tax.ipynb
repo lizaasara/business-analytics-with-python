{
  "nbformat": 4,
  "nbformat_minor": 0,
  "metadata": {
    "colab": {
      "name": "Python -tax",
      "provenance": [],
      "collapsed_sections": []
    },
    "kernelspec": {
      "name": "python3",
      "display_name": "Python 3"
    },
    "language_info": {
      "name": "python"
    }
  },
  "cells": [
    {
      "cell_type": "code",
      "execution_count": 4,
      "metadata": {
        "colab": {
          "base_uri": "https://localhost:8080/"
        },
        "id": "kGJtgzSXMuWO",
        "outputId": "7cfd57bc-a70e-443c-c4d0-47658b127851"
      },
      "outputs": [
        {
          "output_type": "stream",
          "name": "stdout",
          "text": [
            "enter a number6\n",
            "enter a number1\n",
            "7 5 6 6.0\n"
          ]
        }
      ],
      "source": [
        "x=int(input(\"enter a number\"))\n",
        "y=int(input(\"enter a number\"))\n",
        "print(x+y,x-y,x*y,x/y)\n",
        "     "
      ]
    },
    {
      "cell_type": "code",
      "source": [
        "p=int(input(\"enter the principal\"))\n",
        "r=int(input(\"enter the rate\"))\n",
        "n=int(input(\"enter the no of years\"))\n",
        "i=p*r*n\n",
        "print(\"the interest\",i)"
      ],
      "metadata": {
        "colab": {
          "base_uri": "https://localhost:8080/"
        },
        "id": "5zYG5NOtPolQ",
        "outputId": "9af0e056-089a-43b3-8204-bc1b9f9d865d"
      },
      "execution_count": 7,
      "outputs": [
        {
          "output_type": "stream",
          "name": "stdout",
          "text": [
            "enter the principal10000\n",
            "enter the rate5\n",
            "enter the no of years2\n",
            "the interest 100000\n"
          ]
        }
      ]
    },
    {
      "cell_type": "code",
      "source": [
        "a=i+p\n",
        "print(\"the amount is\",a )"
      ],
      "metadata": {
        "colab": {
          "base_uri": "https://localhost:8080/"
        },
        "id": "uLVfp-PDUWEm",
        "outputId": "55fb546c-8b25-4181-a1c5-d7180f4c48dd"
      },
      "execution_count": 8,
      "outputs": [
        {
          "output_type": "stream",
          "name": "stdout",
          "text": [
            "the amount is 110000\n"
          ]
        }
      ]
    },
    {
      "cell_type": "code",
      "source": [
        "a=int(input(\"enter the marks for banking\"))\n",
        "if a>50 :\n",
        "  print(\"pass\")\n",
        "if a<50 :\n",
        "  print(\"fail\")\n"
      ],
      "metadata": {
        "colab": {
          "base_uri": "https://localhost:8080/"
        },
        "id": "s_uC1k_hWYd8",
        "outputId": "30d1eb94-a311-4cc8-f9e5-97f632735187"
      },
      "execution_count": 14,
      "outputs": [
        {
          "output_type": "stream",
          "name": "stdout",
          "text": [
            "enter the marks for banking49\n",
            "fail\n"
          ]
        }
      ]
    },
    {
      "cell_type": "code",
      "source": [
        "a=int(input(\"enter your salary\"))\n",
        "if  250000<a<500000:\n",
        "    print(\"you are taxable\")\n",
        "    print(\"the tax is\",(a-250000)*10/100)\n",
        "if a>500000 :\n",
        "     print(\" tax is\",a*20/100)\n",
        "   "
      ],
      "metadata": {
        "colab": {
          "base_uri": "https://localhost:8080/"
        },
        "id": "7tLVw7cRYFMA",
        "outputId": "e9101690-a8e5-4fb7-8718-853dd75dec43"
      },
      "execution_count": 22,
      "outputs": [
        {
          "output_type": "stream",
          "name": "stdout",
          "text": [
            "enter your salary600000\n",
            " tax is 120000.0\n"
          ]
        }
      ]
    },
    {
      "cell_type": "code",
      "source": [
        ""
      ],
      "metadata": {
        "id": "GPThTIJQa_JA"
      },
      "execution_count": 14,
      "outputs": []
    }
  ]
}