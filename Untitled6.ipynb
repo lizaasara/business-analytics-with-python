{
  "nbformat": 4,
  "nbformat_minor": 0,
  "metadata": {
    "colab": {
      "name": "Untitled6.ipynb",
      "provenance": []
    },
    "kernelspec": {
      "name": "python3",
      "display_name": "Python 3"
    },
    "language_info": {
      "name": "python"
    }
  },
  "cells": [
    {
      "cell_type": "code",
      "execution_count": 12,
      "metadata": {
        "colab": {
          "base_uri": "https://localhost:8080/",
          "height": 130
        },
        "id": "97eVFjzoSan8",
        "outputId": "dfe30ee5-4cd1-427e-f129-78be6dbbf648"
      },
      "outputs": [
        {
          "output_type": "error",
          "ename": "SyntaxError",
          "evalue": "ignored",
          "traceback": [
            "\u001b[0;36m  File \u001b[0;32m\"<ipython-input-12-0f1764852cae>\"\u001b[0;36m, line \u001b[0;32m13\u001b[0m\n\u001b[0;31m    print(\"the tax is:\"a)\u001b[0m\n\u001b[0m                       ^\u001b[0m\n\u001b[0;31mSyntaxError\u001b[0m\u001b[0;31m:\u001b[0m invalid syntax\n"
          ]
        }
      ],
      "source": [
        "\n",
        "\n",
        "\n",
        "\n",
        "x=int(input(\"enter basic salary\"))\n",
        "y=int(input(\"enter HRA\"))\n",
        "Z=int(input(\"enter special allowance\"))\n",
        "w=int(input(\"enter \"))\n",
        "int a,b,c;\n",
        "if x<250000:\n",
        "  print(\"no tax\")\n",
        "if x<500000 & x>250000:\n",
        "  a=(250000-x)*5/100\n",
        "  print(\"the tax is:\"a)\n",
        "if x<7500000 & x>500000:\n",
        "  b=(500000-x)*5/100 +(750000-x)*7/100\n",
        "  print(\"tax\"b)\n",
        "else(x<1000000)\n",
        "  c=(500000-x)*5/100+(750000-x)*7/100 +(1000000-x)*10/100\n",
        "  print(\"tax\"c)\n",
        "\n",
        "\n",
        "\n",
        "\n"
      ]
    },
    {
      "cell_type": "code",
      "source": [
        ""
      ],
      "metadata": {
        "id": "o1Zmi0QVUNId"
      },
      "execution_count": null,
      "outputs": []
    }
  ]
}