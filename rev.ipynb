{
  "nbformat": 4,
  "nbformat_minor": 0,
  "metadata": {
    "colab": {
      "provenance": [],
      "authorship_tag": "ABX9TyOOYtTNH04ec7eC3axCJRFe",
      "include_colab_link": true
    },
    "kernelspec": {
      "name": "python3",
      "display_name": "Python 3"
    },
    "language_info": {
      "name": "python"
    }
  },
  "cells": [
    {
      "cell_type": "markdown",
      "metadata": {
        "id": "view-in-github",
        "colab_type": "text"
      },
      "source": [
        "<a href=\"https://colab.research.google.com/github/lizaasara/business-analytics-with-python/blob/main/rev.ipynb\" target=\"_parent\"><img src=\"https://colab.research.google.com/assets/colab-badge.svg\" alt=\"Open In Colab\"/></a>"
      ]
    },
    {
      "cell_type": "code",
      "execution_count": 2,
      "metadata": {
        "colab": {
          "base_uri": "https://localhost:8080/"
        },
        "id": "ZwDHUbU3s7Os",
        "outputId": "25868ef6-2e55-41ff-85c1-9606925fd2e5"
      },
      "outputs": [
        {
          "output_type": "execute_result",
          "data": {
            "text/plain": [
              "10"
            ]
          },
          "metadata": {},
          "execution_count": 2
        }
      ],
      "source": [
        "x=\"liza  sara\"\n",
        "len(x)"
      ]
    },
    {
      "cell_type": "code",
      "source": [
        "x=[\"John\",\"Mary\",\"David\",\"Adam\"]"
      ],
      "metadata": {
        "id": "sO4eCysyuuMq"
      },
      "execution_count": 3,
      "outputs": []
    },
    {
      "cell_type": "code",
      "source": [
        "x"
      ],
      "metadata": {
        "colab": {
          "base_uri": "https://localhost:8080/"
        },
        "id": "zTZ3Nx1dvb9R",
        "outputId": "fc3a8f8b-064e-4d4a-fa47-05f641099314"
      },
      "execution_count": 4,
      "outputs": [
        {
          "output_type": "execute_result",
          "data": {
            "text/plain": [
              "['John', 'Mary', 'David', 'Adam']"
            ]
          },
          "metadata": {},
          "execution_count": 4
        }
      ]
    },
    {
      "cell_type": "code",
      "source": [
        "type(x)"
      ],
      "metadata": {
        "colab": {
          "base_uri": "https://localhost:8080/"
        },
        "id": "tQZzSAuPvjgd",
        "outputId": "de67d8af-638e-45be-a790-7084c8627222"
      },
      "execution_count": 5,
      "outputs": [
        {
          "output_type": "execute_result",
          "data": {
            "text/plain": [
              "list"
            ]
          },
          "metadata": {},
          "execution_count": 5
        }
      ]
    },
    {
      "cell_type": "code",
      "source": [
        "y=[\"9094\",\"liza sara\",\"8/5/2003\",\"Aluva\",\"19\"]"
      ],
      "metadata": {
        "id": "IYTPJuLawCY-"
      },
      "execution_count": 12,
      "outputs": []
    },
    {
      "cell_type": "code",
      "source": [
        "y"
      ],
      "metadata": {
        "colab": {
          "base_uri": "https://localhost:8080/"
        },
        "id": "iiDjpv2ywS9U",
        "outputId": "f4fc9a6d-469a-4484-d259-92eabe5327f5"
      },
      "execution_count": 13,
      "outputs": [
        {
          "output_type": "execute_result",
          "data": {
            "text/plain": [
              "['9094', 'liza sara', '8/5/2003', 'Aluva', '19']"
            ]
          },
          "metadata": {},
          "execution_count": 13
        }
      ]
    },
    {
      "cell_type": "code",
      "source": [
        "y[0]"
      ],
      "metadata": {
        "colab": {
          "base_uri": "https://localhost:8080/",
          "height": 35
        },
        "id": "irCC9jsRwVnU",
        "outputId": "84c88886-1fbe-4777-c5da-58dce59166df"
      },
      "execution_count": 14,
      "outputs": [
        {
          "output_type": "execute_result",
          "data": {
            "text/plain": [
              "'9094'"
            ],
            "application/vnd.google.colaboratory.intrinsic+json": {
              "type": "string"
            }
          },
          "metadata": {},
          "execution_count": 14
        }
      ]
    },
    {
      "cell_type": "code",
      "source": [
        "y[1]"
      ],
      "metadata": {
        "colab": {
          "base_uri": "https://localhost:8080/",
          "height": 35
        },
        "id": "jJw-gRHXw3uJ",
        "outputId": "d33aa6a1-9bef-471f-c27c-4f886c6886a7"
      },
      "execution_count": 15,
      "outputs": [
        {
          "output_type": "execute_result",
          "data": {
            "text/plain": [
              "'liza sara'"
            ],
            "application/vnd.google.colaboratory.intrinsic+json": {
              "type": "string"
            }
          },
          "metadata": {},
          "execution_count": 15
        }
      ]
    },
    {
      "cell_type": "code",
      "source": [
        "y[-1]"
      ],
      "metadata": {
        "colab": {
          "base_uri": "https://localhost:8080/",
          "height": 35
        },
        "id": "r102JAdcxG4w",
        "outputId": "0bc4b59a-78e3-49c3-bb1c-c3cfca1e6318"
      },
      "execution_count": 16,
      "outputs": [
        {
          "output_type": "execute_result",
          "data": {
            "text/plain": [
              "'19'"
            ],
            "application/vnd.google.colaboratory.intrinsic+json": {
              "type": "string"
            }
          },
          "metadata": {},
          "execution_count": 16
        }
      ]
    },
    {
      "cell_type": "code",
      "source": [
        "y[-2]"
      ],
      "metadata": {
        "colab": {
          "base_uri": "https://localhost:8080/",
          "height": 35
        },
        "id": "mVKh5QJGxQ7Y",
        "outputId": "bcdd8c4e-f304-40d3-c536-4af1c52a3934"
      },
      "execution_count": 17,
      "outputs": [
        {
          "output_type": "execute_result",
          "data": {
            "text/plain": [
              "'Aluva'"
            ],
            "application/vnd.google.colaboratory.intrinsic+json": {
              "type": "string"
            }
          },
          "metadata": {},
          "execution_count": 17
        }
      ]
    },
    {
      "cell_type": "code",
      "source": [
        "x=[12,34,54,76,98,39,95,44,65,10]"
      ],
      "metadata": {
        "id": "9MrU-11VxX_Q"
      },
      "execution_count": 18,
      "outputs": []
    },
    {
      "cell_type": "code",
      "source": [
        "x"
      ],
      "metadata": {
        "colab": {
          "base_uri": "https://localhost:8080/"
        },
        "id": "CMNroQNTx0-o",
        "outputId": "7aa7e5f6-24ea-4cf0-83c6-09c119aa00f5"
      },
      "execution_count": 19,
      "outputs": [
        {
          "output_type": "execute_result",
          "data": {
            "text/plain": [
              "[12, 34, 54, 76, 98, 39, 95, 44, 65, 10]"
            ]
          },
          "metadata": {},
          "execution_count": 19
        }
      ]
    },
    {
      "cell_type": "code",
      "source": [
        "x[0:1]"
      ],
      "metadata": {
        "colab": {
          "base_uri": "https://localhost:8080/"
        },
        "id": "gYJ5Y0uJyG5A",
        "outputId": "6b1304cb-4c43-4218-8807-c8d3b8f551b4"
      },
      "execution_count": 22,
      "outputs": [
        {
          "output_type": "execute_result",
          "data": {
            "text/plain": [
              "[12]"
            ]
          },
          "metadata": {},
          "execution_count": 22
        }
      ]
    },
    {
      "cell_type": "code",
      "source": [
        "x[0:5]"
      ],
      "metadata": {
        "colab": {
          "base_uri": "https://localhost:8080/"
        },
        "id": "JWCjhpf5yWoA",
        "outputId": "55f16785-e204-4e49-e991-8fd318964dca"
      },
      "execution_count": 23,
      "outputs": [
        {
          "output_type": "execute_result",
          "data": {
            "text/plain": [
              "[12, 34, 54, 76, 98]"
            ]
          },
          "metadata": {},
          "execution_count": 23
        }
      ]
    },
    {
      "cell_type": "code",
      "source": [
        "x[7:]"
      ],
      "metadata": {
        "colab": {
          "base_uri": "https://localhost:8080/"
        },
        "id": "nPnPRybtyhrZ",
        "outputId": "6aa9d8d4-f734-45d4-8336-2a1f5e674d12"
      },
      "execution_count": 24,
      "outputs": [
        {
          "output_type": "execute_result",
          "data": {
            "text/plain": [
              "[44, 65, 10]"
            ]
          },
          "metadata": {},
          "execution_count": 24
        }
      ]
    },
    {
      "cell_type": "code",
      "source": [
        "x[-3:]"
      ],
      "metadata": {
        "colab": {
          "base_uri": "https://localhost:8080/"
        },
        "id": "35G-zgVozAOo",
        "outputId": "a2543c71-321d-4567-ea32-ca6a7eca22f4"
      },
      "execution_count": 26,
      "outputs": [
        {
          "output_type": "execute_result",
          "data": {
            "text/plain": [
              "[44, 65, 10]"
            ]
          },
          "metadata": {},
          "execution_count": 26
        }
      ]
    },
    {
      "cell_type": "code",
      "source": [
        "x=[12,34,54,76,98,39,95,44,65,10]\n",
        "x[0]=11"
      ],
      "metadata": {
        "id": "EjNB03lnz-Vo"
      },
      "execution_count": 27,
      "outputs": []
    },
    {
      "cell_type": "code",
      "source": [
        "x"
      ],
      "metadata": {
        "colab": {
          "base_uri": "https://localhost:8080/"
        },
        "id": "f4WT3X770nWi",
        "outputId": "c0f463bb-f99a-456f-cc4a-5d5e65791e07"
      },
      "execution_count": 28,
      "outputs": [
        {
          "output_type": "execute_result",
          "data": {
            "text/plain": [
              "[11, 34, 54, 76, 98, 39, 95, 44, 65, 10]"
            ]
          },
          "metadata": {},
          "execution_count": 28
        }
      ]
    },
    {
      "cell_type": "code",
      "source": [
        "y=[\"9094\",\"liza sara\",\"8/5/2003\",\"Aluva\",\"19\"]\n",
        "y[3]=\"rajagiri\""
      ],
      "metadata": {
        "id": "VPI61pfe0o6j"
      },
      "execution_count": 29,
      "outputs": []
    },
    {
      "cell_type": "code",
      "source": [
        "y"
      ],
      "metadata": {
        "colab": {
          "base_uri": "https://localhost:8080/"
        },
        "id": "Om4lN9kK1vlu",
        "outputId": "e058a074-02bd-418f-e010-ee21d9bd4723"
      },
      "execution_count": 30,
      "outputs": [
        {
          "output_type": "execute_result",
          "data": {
            "text/plain": [
              "['9094', 'liza sara', '8/5/2003', 'rajagiri', '19']"
            ]
          },
          "metadata": {},
          "execution_count": 30
        }
      ]
    },
    {
      "cell_type": "code",
      "source": [
        "x=1\n",
        "y=[]\n",
        "while (x<5):\n",
        "  a=(input(\"enter a number\"))\n",
        "  y.append(a)\n",
        "  x=x+1\n",
        "print(y)"
      ],
      "metadata": {
        "colab": {
          "base_uri": "https://localhost:8080/"
        },
        "id": "SgP-fF1c1wbT",
        "outputId": "54ad7673-7b2b-4710-d086-d24ca096ddf4"
      },
      "execution_count": 42,
      "outputs": [
        {
          "output_type": "stream",
          "name": "stdout",
          "text": [
            "enter a number5\n",
            "enter a number9\n",
            "enter a number78\n",
            "enter a number12\n",
            "['5', '9', '78', '12']\n"
          ]
        }
      ]
    },
    {
      "cell_type": "code",
      "source": [
        "x=['5', '9', '78', '12']\n",
        "y=x.copy()\n",
        "y"
      ],
      "metadata": {
        "colab": {
          "base_uri": "https://localhost:8080/"
        },
        "id": "zwdRYWJk4RE-",
        "outputId": "d145857f-3b4b-45fa-ae86-582d9adf46d5"
      },
      "execution_count": 44,
      "outputs": [
        {
          "output_type": "execute_result",
          "data": {
            "text/plain": [
              "['5', '9', '78', '12']"
            ]
          },
          "metadata": {},
          "execution_count": 44
        }
      ]
    },
    {
      "cell_type": "code",
      "source": [
        "x=['5', '9', '78', '12']\n",
        "y=['9094', 'liza sara', '8/5/2003', 'rajagiri', '19']\n",
        "x.extend(y)"
      ],
      "metadata": {
        "id": "5RfSoZ7B9R0i"
      },
      "execution_count": 46,
      "outputs": []
    },
    {
      "cell_type": "code",
      "source": [
        "x"
      ],
      "metadata": {
        "colab": {
          "base_uri": "https://localhost:8080/"
        },
        "id": "qJywNlop-Pd2",
        "outputId": "19c6c53d-52d6-4410-95bb-29f95aeccd0f"
      },
      "execution_count": 47,
      "outputs": [
        {
          "output_type": "execute_result",
          "data": {
            "text/plain": [
              "['5', '9', '78', '12', '9094', 'liza sara', '8/5/2003', 'rajagiri', '19']"
            ]
          },
          "metadata": {},
          "execution_count": 47
        }
      ]
    },
    {
      "cell_type": "code",
      "source": [
        "x=['9094', 'liza sara', '8/5/2003', 'rajagiri', '19']\n",
        "x.count('19')"
      ],
      "metadata": {
        "colab": {
          "base_uri": "https://localhost:8080/"
        },
        "id": "-sUVXIKb-WlU",
        "outputId": "e8fb023f-5813-4298-f801-73271e4b24d7"
      },
      "execution_count": 50,
      "outputs": [
        {
          "output_type": "execute_result",
          "data": {
            "text/plain": [
              "1"
            ]
          },
          "metadata": {},
          "execution_count": 50
        }
      ]
    },
    {
      "cell_type": "code",
      "source": [
        "x=['angel','jensy','samrin','liza']\n",
        "x[1:3]=['mathew','james']\n",
        "x"
      ],
      "metadata": {
        "colab": {
          "base_uri": "https://localhost:8080/"
        },
        "id": "BT7IKmFJ-6Zc",
        "outputId": "7643daf9-678d-4883-9e8e-42647a55b074"
      },
      "execution_count": 51,
      "outputs": [
        {
          "output_type": "execute_result",
          "data": {
            "text/plain": [
              "['angel', 'mathew', 'james', 'liza']"
            ]
          },
          "metadata": {},
          "execution_count": 51
        }
      ]
    },
    {
      "cell_type": "code",
      "source": [
        "x=['9094', 'liza sara', '8/5/2003', 'rajagiri', '19']\n",
        "x.insert(2,'39')\n",
        "x"
      ],
      "metadata": {
        "colab": {
          "base_uri": "https://localhost:8080/"
        },
        "id": "H6fouzglAgCu",
        "outputId": "6b002634-384b-4db8-b0e4-cc2009e95d48"
      },
      "execution_count": 52,
      "outputs": [
        {
          "output_type": "execute_result",
          "data": {
            "text/plain": [
              "['9094', 'liza sara', '39', '8/5/2003', 'rajagiri', '19']"
            ]
          },
          "metadata": {},
          "execution_count": 52
        }
      ]
    },
    {
      "cell_type": "code",
      "source": [
        "x=['9094', 'liza sara', '8/5/2003', 'rajagiri', '19']\n",
        "x.remove('rajagiri')"
      ],
      "metadata": {
        "id": "3nUy2OkEBpQ9"
      },
      "execution_count": 53,
      "outputs": []
    },
    {
      "cell_type": "code",
      "source": [
        "x"
      ],
      "metadata": {
        "colab": {
          "base_uri": "https://localhost:8080/"
        },
        "id": "WDTsNqSnCSHE",
        "outputId": "06fd62bb-ac69-4457-9701-50a88985061d"
      },
      "execution_count": 54,
      "outputs": [
        {
          "output_type": "execute_result",
          "data": {
            "text/plain": [
              "['9094', 'liza sara', '8/5/2003', '19']"
            ]
          },
          "metadata": {},
          "execution_count": 54
        }
      ]
    },
    {
      "cell_type": "code",
      "source": [
        "x=['9094', 'liza sara', '8/5/2003', '19']\n",
        "del x[0]\n",
        "del x[-1]"
      ],
      "metadata": {
        "id": "dXvS7QwXCTeq"
      },
      "execution_count": 55,
      "outputs": []
    },
    {
      "cell_type": "code",
      "source": [
        "x"
      ],
      "metadata": {
        "colab": {
          "base_uri": "https://localhost:8080/"
        },
        "id": "iQuXFpb1DDMJ",
        "outputId": "1e7fb62a-68ea-47a7-fd03-6d5409229bf8"
      },
      "execution_count": 56,
      "outputs": [
        {
          "output_type": "execute_result",
          "data": {
            "text/plain": [
              "['liza sara', '8/5/2003']"
            ]
          },
          "metadata": {},
          "execution_count": 56
        }
      ]
    },
    {
      "cell_type": "code",
      "source": [
        "x=['9094', 'liza sara', '8/5/2003', '19']\n",
        "del x[0:2]"
      ],
      "metadata": {
        "id": "OjfETuWFDEjh"
      },
      "execution_count": 57,
      "outputs": []
    },
    {
      "cell_type": "code",
      "source": [
        "x"
      ],
      "metadata": {
        "colab": {
          "base_uri": "https://localhost:8080/"
        },
        "id": "l4Pxck-MDaWA",
        "outputId": "4ecf97dd-9a58-4b7f-aba7-296b0b9c4346"
      },
      "execution_count": 58,
      "outputs": [
        {
          "output_type": "execute_result",
          "data": {
            "text/plain": [
              "['8/5/2003', '19']"
            ]
          },
          "metadata": {},
          "execution_count": 58
        }
      ]
    },
    {
      "cell_type": "code",
      "source": [],
      "metadata": {
        "id": "Bm8QS32LDbMQ"
      },
      "execution_count": null,
      "outputs": []
    }
  ]
}